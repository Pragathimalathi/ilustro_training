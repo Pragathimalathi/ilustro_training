{
  "nbformat": 4,
  "nbformat_minor": 0,
  "metadata": {
    "colab": {
      "provenance": [],
      "authorship_tag": "ABX9TyNRZwdsSgYG0hD1vGmWhypx",
      "include_colab_link": true
    },
    "kernelspec": {
      "name": "python3",
      "display_name": "Python 3"
    },
    "language_info": {
      "name": "python"
    }
  },
  "cells": [
    {
      "cell_type": "markdown",
      "metadata": {
        "id": "view-in-github",
        "colab_type": "text"
      },
      "source": [
        "<a href=\"https://colab.research.google.com/github/Pragathimalathi/ilustro_training/blob/main/NLp_task.ipynb\" target=\"_parent\"><img src=\"https://colab.research.google.com/assets/colab-badge.svg\" alt=\"Open In Colab\"/></a>"
      ]
    },
    {
      "cell_type": "code",
      "execution_count": null,
      "metadata": {
        "id": "Ytf4TWQdwggP"
      },
      "outputs": [],
      "source": [
        "import nltk\n",
        "from nltk.tokenize import word_tokenize\n",
        "from nltk.stem import PorterStemmer,LancasterStemmer,SnowballStemmer\n",
        "from nltk.stem import WordNetLemmatizer\n",
        "from nltk.corpus import wordnet\n",
        "from nltk.corpus import stopwords"
      ]
    },
    {
      "cell_type": "code",
      "source": [
        "nltk.download('punkt')\n",
        "nltk.download('punkt_tab')\n",
        "nltk.download('wordnet')\n",
        "nltk.download('omw-1.4')\n",
        "nltk.download('stopwords')"
      ],
      "metadata": {
        "colab": {
          "base_uri": "https://localhost:8080/"
        },
        "id": "cbxHIif4Fe7q",
        "outputId": "c1c91bf0-2301-4186-85b1-13c459d40021"
      },
      "execution_count": null,
      "outputs": [
        {
          "output_type": "stream",
          "name": "stderr",
          "text": [
            "[nltk_data] Downloading package punkt to /root/nltk_data...\n",
            "[nltk_data]   Package punkt is already up-to-date!\n",
            "[nltk_data] Downloading package punkt_tab to /root/nltk_data...\n",
            "[nltk_data]   Package punkt_tab is already up-to-date!\n",
            "[nltk_data] Downloading package wordnet to /root/nltk_data...\n",
            "[nltk_data]   Package wordnet is already up-to-date!\n",
            "[nltk_data] Downloading package omw-1.4 to /root/nltk_data...\n",
            "[nltk_data]   Package omw-1.4 is already up-to-date!\n",
            "[nltk_data] Downloading package stopwords to /root/nltk_data...\n",
            "[nltk_data]   Package stopwords is already up-to-date!\n"
          ]
        },
        {
          "output_type": "execute_result",
          "data": {
            "text/plain": [
              "True"
            ]
          },
          "metadata": {},
          "execution_count": 12
        }
      ]
    },
    {
      "cell_type": "code",
      "source": [
        "text=\"The striped bats are hanging on their feet and talking.  Running,flies,better,cared, studying\"\n",
        "tokens= word_tokenize(text)\n",
        "print (\" original Tokens:\", tokens)"
      ],
      "metadata": {
        "colab": {
          "base_uri": "https://localhost:8080/"
        },
        "id": "lYQVrCPHIVmg",
        "outputId": "c109da0e-987a-45c8-ee0c-bf73bc70f0dc"
      },
      "execution_count": null,
      "outputs": [
        {
          "output_type": "stream",
          "name": "stdout",
          "text": [
            " original Tokens: ['The', 'striped', 'bats', 'are', 'hanging', 'on', 'their', 'feet', 'and', 'talking', '.', 'Running', ',', 'flies', ',', 'better', ',', 'cared', ',', 'studying']\n"
          ]
        }
      ]
    },
    {
      "cell_type": "code",
      "source": [
        "lemmatizer = WordNetLemmatizer()\n",
        "lemmatized_words = [lemmatizer.lemmatize(word) for word in tokens]\n",
        "print (\"Lemmatized Words:\",lemmatized_words)"
      ],
      "metadata": {
        "colab": {
          "base_uri": "https://localhost:8080/"
        },
        "id": "aOkdJ15TLmWX",
        "outputId": "92ec20f7-bd09-43fb-9c42-c469d84c9fb5"
      },
      "execution_count": null,
      "outputs": [
        {
          "output_type": "stream",
          "name": "stdout",
          "text": [
            "Lemmatized Words: ['The', 'striped', 'bat', 'are', 'hanging', 'on', 'their', 'foot', 'and', 'talking', '.', 'Running', ',', 'fly', ',', 'better', ',', 'cared', ',', 'studying']\n"
          ]
        }
      ]
    },
    {
      "cell_type": "code",
      "source": [
        "porter = PorterStemmer()\n",
        "stemmed_words = [porter.stem(word) for word in tokens]\n",
        "print (\"Porter Stemmer:\",stemmed_words)"
      ],
      "metadata": {
        "colab": {
          "base_uri": "https://localhost:8080/"
        },
        "id": "tpxUPnvYLJgp",
        "outputId": "a6e968ec-5572-4635-9673-426d875b5601"
      },
      "execution_count": null,
      "outputs": [
        {
          "output_type": "stream",
          "name": "stdout",
          "text": [
            "Porter Stemmer: ['the', 'stripe', 'bat', 'are', 'hang', 'on', 'their', 'feet', 'and', 'talk', '.', 'run', ',', 'fli', ',', 'better', ',', 'care', ',', 'studi']\n"
          ]
        }
      ]
    },
    {
      "cell_type": "code",
      "source": [
        "tokens = [word.lower() for word in tokens]\n",
        "print (\"Lowercased Tokens:\", tokens)"
      ],
      "metadata": {
        "colab": {
          "base_uri": "https://localhost:8080/"
        },
        "id": "5AKqES1lMCvX",
        "outputId": "d6a0bd26-be40-4df5-94b6-297bc28d9cb2"
      },
      "execution_count": null,
      "outputs": [
        {
          "output_type": "stream",
          "name": "stdout",
          "text": [
            "Lowercased Tokens: ['the', 'striped', 'bats', 'are', 'hanging', 'on', 'their', 'feet', 'and', 'talking', '.', 'running', ',', 'flies', ',', 'better', ',', 'cared', ',', 'studying']\n"
          ]
        }
      ]
    },
    {
      "cell_type": "code",
      "source": [
        "tokens = [word.lower() for word in tokens]\n",
        "print (\"Lowercased Tokens:\", tokens)"
      ],
      "metadata": {
        "colab": {
          "base_uri": "https://localhost:8080/"
        },
        "id": "-D4KEOXdMeyw",
        "outputId": "a1dea862-7ab9-41a4-b831-82dc5a60a87d"
      },
      "execution_count": null,
      "outputs": [
        {
          "output_type": "stream",
          "name": "stdout",
          "text": [
            "Lowercased Tokens: ['the', 'striped', 'bats', 'are', 'hanging', 'on', 'their', 'feet', 'and', 'talking', '.', 'running', ',', 'flies', ',', 'better', ',', 'cared', ',', 'studying']\n"
          ]
        }
      ]
    },
    {
      "cell_type": "code",
      "source": [
        "default_stopwords = set(stopwords.words('english'))\n",
        "default_filtered_tokens = [word for word in tokens if word not in default_stopwords]\n",
        "print(\"Tokens after removing default stopwords:\",default_filtered_tokens)"
      ],
      "metadata": {
        "colab": {
          "base_uri": "https://localhost:8080/"
        },
        "id": "pyqB70iIMoh7",
        "outputId": "b16b881f-5fd0-447c-81e9-c01b91b52c30"
      },
      "execution_count": null,
      "outputs": [
        {
          "output_type": "stream",
          "name": "stdout",
          "text": [
            "Tokens after removing default stopwords: ['striped', 'bats', 'hanging', 'feet', 'talking', '.', 'running', ',', 'flies', ',', 'better', ',', 'cared', ',', 'studying']\n"
          ]
        }
      ]
    },
    {
      "cell_type": "code",
      "source": [
        "custom_stopwords = {\"because\",\"love\"}\n",
        "custom_filtered_tokens = [word for word in default_filtered_tokens if word not in custom_stopwords]\n",
        "print(\"Tokens after removing custom stopwords:\", custom_filtered_tokens)"
      ],
      "metadata": {
        "colab": {
          "base_uri": "https://localhost:8080/"
        },
        "id": "KuwDyZfEMz1L",
        "outputId": "d81651ad-ec7b-461c-d29d-72d07f2672ed"
      },
      "execution_count": null,
      "outputs": [
        {
          "output_type": "stream",
          "name": "stdout",
          "text": [
            "Tokens after removing custom stopwords: ['striped', 'bats', 'hanging', 'feet', 'talking', '.', 'running', ',', 'flies', ',', 'better', ',', 'cared', ',', 'studying']\n"
          ]
        }
      ]
    },
    {
      "cell_type": "code",
      "source": [
        "from nltk import pos_tag\n",
        "nltk.download('averaged_perceptron_tagger_eng')\n",
        "pos_tags = pos_tag(custom_filtered_tokens)\n",
        "print(\"POS Tags:\", pos_tags)"
      ],
      "metadata": {
        "colab": {
          "base_uri": "https://localhost:8080/"
        },
        "id": "tMpq6x15NZXV",
        "outputId": "46318384-a729-45d0-c00f-df89ccd97224"
      },
      "execution_count": null,
      "outputs": [
        {
          "output_type": "stream",
          "name": "stderr",
          "text": [
            "[nltk_data] Downloading package averaged_perceptron_tagger_eng to\n",
            "[nltk_data]     /root/nltk_data...\n",
            "[nltk_data]   Package averaged_perceptron_tagger_eng is already up-to-\n",
            "[nltk_data]       date!\n"
          ]
        },
        {
          "output_type": "stream",
          "name": "stdout",
          "text": [
            "POS Tags: [('striped', 'VBN'), ('bats', 'NNS'), ('hanging', 'VBG'), ('feet', 'NNS'), ('talking', 'VBG'), ('.', '.'), ('running', 'NN'), (',', ','), ('flies', 'NNS'), (',', ','), ('better', 'JJR'), (',', ','), ('cared', 'VBD'), (',', ','), ('studying', 'VBG')]\n"
          ]
        }
      ]
    }
  ]
}